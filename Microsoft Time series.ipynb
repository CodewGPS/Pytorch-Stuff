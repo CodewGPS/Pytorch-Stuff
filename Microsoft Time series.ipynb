{
 "cells": [
  {
   "cell_type": "code",
   "execution_count": 3,
   "id": "59eb8b4d-01d1-4bbb-8dc0-6c4240326705",
   "metadata": {},
   "outputs": [
    {
     "name": "stdout",
     "output_type": "stream",
     "text": [
      "Collecting kagglehub\n",
      "  Downloading kagglehub-0.3.12-py3-none-any.whl.metadata (38 kB)\n",
      "Requirement already satisfied: packaging in c:\\users\\shrinil\\anaconda3\\lib\\site-packages (from kagglehub) (24.2)\n",
      "Requirement already satisfied: pyyaml in c:\\users\\shrinil\\anaconda3\\lib\\site-packages (from kagglehub) (6.0.2)\n",
      "Requirement already satisfied: requests in c:\\users\\shrinil\\anaconda3\\lib\\site-packages (from kagglehub) (2.32.3)\n",
      "Requirement already satisfied: tqdm in c:\\users\\shrinil\\anaconda3\\lib\\site-packages (from kagglehub) (4.65.0)\n",
      "Requirement already satisfied: charset-normalizer<4,>=2 in c:\\users\\shrinil\\anaconda3\\lib\\site-packages (from requests->kagglehub) (2.0.4)\n",
      "Requirement already satisfied: idna<4,>=2.5 in c:\\users\\shrinil\\anaconda3\\lib\\site-packages (from requests->kagglehub) (3.4)\n",
      "Requirement already satisfied: urllib3<3,>=1.21.1 in c:\\users\\shrinil\\anaconda3\\lib\\site-packages (from requests->kagglehub) (2.3.0)\n",
      "Requirement already satisfied: certifi>=2017.4.17 in c:\\users\\shrinil\\anaconda3\\lib\\site-packages (from requests->kagglehub) (2024.2.2)\n",
      "Requirement already satisfied: colorama in c:\\users\\shrinil\\anaconda3\\lib\\site-packages (from tqdm->kagglehub) (0.4.6)\n",
      "Downloading kagglehub-0.3.12-py3-none-any.whl (67 kB)\n",
      "   ---------------------------------------- 0.0/68.0 kB ? eta -:--:--\n",
      "   ------------------------ --------------- 41.0/68.0 kB ? eta -:--:--\n",
      "   ---------------------------------------- 68.0/68.0 kB 1.9 MB/s eta 0:00:00\n",
      "Installing collected packages: kagglehub\n",
      "Successfully installed kagglehub-0.3.12\n"
     ]
    }
   ],
   "source": [
    "!pip install kagglehub"
   ]
  },
  {
   "cell_type": "code",
   "execution_count": 1,
   "id": "5bbaa6d5-670b-40d8-805c-0b0c2bbca7c1",
   "metadata": {},
   "outputs": [],
   "source": [
    "import pandas as pd\n",
    "import numpy as np\n",
    "\n",
    "import torch\n",
    "import torch.nn as nn"
   ]
  },
  {
   "cell_type": "code",
   "execution_count": 2,
   "id": "8e75a155-4d96-4008-9c28-ad8c0ff82443",
   "metadata": {},
   "outputs": [],
   "source": [
    "device='cuda' if torch.cuda.is_available() else 'cpu'"
   ]
  },
  {
   "cell_type": "code",
   "execution_count": 3,
   "id": "293847d3-3315-4c6a-b4b4-26f040d1a463",
   "metadata": {},
   "outputs": [
    {
     "data": {
      "text/plain": [
       "'cuda'"
      ]
     },
     "execution_count": 3,
     "metadata": {},
     "output_type": "execute_result"
    }
   ],
   "source": [
    "device"
   ]
  },
  {
   "cell_type": "code",
   "execution_count": 4,
   "id": "1f2a6a67-03f1-42a8-ad19-238021cce728",
   "metadata": {},
   "outputs": [
    {
     "name": "stdout",
     "output_type": "stream",
     "text": [
      "Downloading from https://www.kaggle.com/api/v1/datasets/download/vijayvvenkitesh/microsoft-stock-time-series-analysis?dataset_version_number=1...\n"
     ]
    },
    {
     "name": "stderr",
     "output_type": "stream",
     "text": [
      "100%|██████████████████████████████████████████████████████████████████████████████| 26.7k/26.7k [00:00<00:00, 327kB/s]"
     ]
    },
    {
     "name": "stdout",
     "output_type": "stream",
     "text": [
      "Extracting files...\n",
      "Path to dataset files: C:\\Users\\Shrinil\\.cache\\kagglehub\\datasets\\vijayvvenkitesh\\microsoft-stock-time-series-analysis\\versions\\1\n"
     ]
    },
    {
     "name": "stderr",
     "output_type": "stream",
     "text": [
      "\n"
     ]
    }
   ],
   "source": [
    "import kagglehub\n",
    "\n",
    "# Download latest version\n",
    "path = kagglehub.dataset_download(\"vijayvvenkitesh/microsoft-stock-time-series-analysis\")\n",
    "\n",
    "print(\"Path to dataset files:\", path)"
   ]
  },
  {
   "cell_type": "code",
   "execution_count": 4,
   "id": "6d2d4e16-1e44-47ab-9f86-eb991129c483",
   "metadata": {},
   "outputs": [],
   "source": [
    "df=pd.read_csv('Microsoft_stock.csv')"
   ]
  },
  {
   "cell_type": "code",
   "execution_count": 5,
   "id": "9c38ebe6-6d6a-4725-90b4-ff833755a44a",
   "metadata": {},
   "outputs": [
    {
     "data": {
      "text/html": [
       "<div>\n",
       "<style scoped>\n",
       "    .dataframe tbody tr th:only-of-type {\n",
       "        vertical-align: middle;\n",
       "    }\n",
       "\n",
       "    .dataframe tbody tr th {\n",
       "        vertical-align: top;\n",
       "    }\n",
       "\n",
       "    .dataframe thead th {\n",
       "        text-align: right;\n",
       "    }\n",
       "</style>\n",
       "<table border=\"1\" class=\"dataframe\">\n",
       "  <thead>\n",
       "    <tr style=\"text-align: right;\">\n",
       "      <th></th>\n",
       "      <th>Date</th>\n",
       "      <th>Open</th>\n",
       "      <th>High</th>\n",
       "      <th>Low</th>\n",
       "      <th>Close</th>\n",
       "      <th>Volume</th>\n",
       "    </tr>\n",
       "  </thead>\n",
       "  <tbody>\n",
       "    <tr>\n",
       "      <th>0</th>\n",
       "      <td>4/1/2015 16:00:00</td>\n",
       "      <td>40.60</td>\n",
       "      <td>40.76</td>\n",
       "      <td>40.31</td>\n",
       "      <td>40.72</td>\n",
       "      <td>36865322</td>\n",
       "    </tr>\n",
       "    <tr>\n",
       "      <th>1</th>\n",
       "      <td>4/2/2015 16:00:00</td>\n",
       "      <td>40.66</td>\n",
       "      <td>40.74</td>\n",
       "      <td>40.12</td>\n",
       "      <td>40.29</td>\n",
       "      <td>37487476</td>\n",
       "    </tr>\n",
       "    <tr>\n",
       "      <th>2</th>\n",
       "      <td>4/6/2015 16:00:00</td>\n",
       "      <td>40.34</td>\n",
       "      <td>41.78</td>\n",
       "      <td>40.18</td>\n",
       "      <td>41.55</td>\n",
       "      <td>39223692</td>\n",
       "    </tr>\n",
       "    <tr>\n",
       "      <th>3</th>\n",
       "      <td>4/7/2015 16:00:00</td>\n",
       "      <td>41.61</td>\n",
       "      <td>41.91</td>\n",
       "      <td>41.31</td>\n",
       "      <td>41.53</td>\n",
       "      <td>28809375</td>\n",
       "    </tr>\n",
       "    <tr>\n",
       "      <th>4</th>\n",
       "      <td>4/8/2015 16:00:00</td>\n",
       "      <td>41.48</td>\n",
       "      <td>41.69</td>\n",
       "      <td>41.04</td>\n",
       "      <td>41.42</td>\n",
       "      <td>24753438</td>\n",
       "    </tr>\n",
       "    <tr>\n",
       "      <th>5</th>\n",
       "      <td>4/9/2015 16:00:00</td>\n",
       "      <td>41.25</td>\n",
       "      <td>41.62</td>\n",
       "      <td>41.25</td>\n",
       "      <td>41.48</td>\n",
       "      <td>25723861</td>\n",
       "    </tr>\n",
       "    <tr>\n",
       "      <th>6</th>\n",
       "      <td>4/10/2015 16:00:00</td>\n",
       "      <td>41.63</td>\n",
       "      <td>41.95</td>\n",
       "      <td>41.41</td>\n",
       "      <td>41.72</td>\n",
       "      <td>28022002</td>\n",
       "    </tr>\n",
       "    <tr>\n",
       "      <th>7</th>\n",
       "      <td>4/13/2015 16:00:00</td>\n",
       "      <td>41.40</td>\n",
       "      <td>42.06</td>\n",
       "      <td>41.39</td>\n",
       "      <td>41.76</td>\n",
       "      <td>30276692</td>\n",
       "    </tr>\n",
       "    <tr>\n",
       "      <th>8</th>\n",
       "      <td>4/14/2015 16:00:00</td>\n",
       "      <td>41.80</td>\n",
       "      <td>42.03</td>\n",
       "      <td>41.39</td>\n",
       "      <td>41.65</td>\n",
       "      <td>24244382</td>\n",
       "    </tr>\n",
       "    <tr>\n",
       "      <th>9</th>\n",
       "      <td>4/15/2015 16:00:00</td>\n",
       "      <td>41.76</td>\n",
       "      <td>42.46</td>\n",
       "      <td>41.68</td>\n",
       "      <td>42.26</td>\n",
       "      <td>27343581</td>\n",
       "    </tr>\n",
       "  </tbody>\n",
       "</table>\n",
       "</div>"
      ],
      "text/plain": [
       "                 Date   Open   High    Low  Close    Volume\n",
       "0   4/1/2015 16:00:00  40.60  40.76  40.31  40.72  36865322\n",
       "1   4/2/2015 16:00:00  40.66  40.74  40.12  40.29  37487476\n",
       "2   4/6/2015 16:00:00  40.34  41.78  40.18  41.55  39223692\n",
       "3   4/7/2015 16:00:00  41.61  41.91  41.31  41.53  28809375\n",
       "4   4/8/2015 16:00:00  41.48  41.69  41.04  41.42  24753438\n",
       "5   4/9/2015 16:00:00  41.25  41.62  41.25  41.48  25723861\n",
       "6  4/10/2015 16:00:00  41.63  41.95  41.41  41.72  28022002\n",
       "7  4/13/2015 16:00:00  41.40  42.06  41.39  41.76  30276692\n",
       "8  4/14/2015 16:00:00  41.80  42.03  41.39  41.65  24244382\n",
       "9  4/15/2015 16:00:00  41.76  42.46  41.68  42.26  27343581"
      ]
     },
     "execution_count": 5,
     "metadata": {},
     "output_type": "execute_result"
    }
   ],
   "source": [
    "df.head(10)"
   ]
  },
  {
   "cell_type": "code",
   "execution_count": 6,
   "id": "506ccce5-55fd-4707-a57b-627f09351745",
   "metadata": {},
   "outputs": [
    {
     "name": "stdout",
     "output_type": "stream",
     "text": [
      "<class 'pandas.core.frame.DataFrame'>\n",
      "RangeIndex: 1511 entries, 0 to 1510\n",
      "Data columns (total 6 columns):\n",
      " #   Column  Non-Null Count  Dtype  \n",
      "---  ------  --------------  -----  \n",
      " 0   Date    1511 non-null   object \n",
      " 1   Open    1511 non-null   float64\n",
      " 2   High    1511 non-null   float64\n",
      " 3   Low     1511 non-null   float64\n",
      " 4   Close   1511 non-null   float64\n",
      " 5   Volume  1511 non-null   int64  \n",
      "dtypes: float64(4), int64(1), object(1)\n",
      "memory usage: 71.0+ KB\n"
     ]
    }
   ],
   "source": [
    "df.info()"
   ]
  },
  {
   "cell_type": "code",
   "execution_count": 7,
   "id": "22bc6ffc-85f8-4d18-ad2b-f2628141d7a7",
   "metadata": {},
   "outputs": [
    {
     "data": {
      "text/plain": [
       "Date      0\n",
       "Open      0\n",
       "High      0\n",
       "Low       0\n",
       "Close     0\n",
       "Volume    0\n",
       "dtype: int64"
      ]
     },
     "execution_count": 7,
     "metadata": {},
     "output_type": "execute_result"
    }
   ],
   "source": [
    "df.isnull().sum()"
   ]
  },
  {
   "cell_type": "code",
   "execution_count": 8,
   "id": "96e1caf4-003e-4cff-ae8c-cbd09f92d94c",
   "metadata": {},
   "outputs": [
    {
     "data": {
      "text/plain": [
       "(1511, 6)"
      ]
     },
     "execution_count": 8,
     "metadata": {},
     "output_type": "execute_result"
    }
   ],
   "source": [
    "df.shape"
   ]
  },
  {
   "cell_type": "code",
   "execution_count": 9,
   "id": "545867eb-9a5d-4a48-9f2c-eb8a62a5efaa",
   "metadata": {},
   "outputs": [
    {
     "data": {
      "text/html": [
       "<div>\n",
       "<style scoped>\n",
       "    .dataframe tbody tr th:only-of-type {\n",
       "        vertical-align: middle;\n",
       "    }\n",
       "\n",
       "    .dataframe tbody tr th {\n",
       "        vertical-align: top;\n",
       "    }\n",
       "\n",
       "    .dataframe thead th {\n",
       "        text-align: right;\n",
       "    }\n",
       "</style>\n",
       "<table border=\"1\" class=\"dataframe\">\n",
       "  <thead>\n",
       "    <tr style=\"text-align: right;\">\n",
       "      <th></th>\n",
       "      <th>Open</th>\n",
       "      <th>High</th>\n",
       "      <th>Low</th>\n",
       "      <th>Close</th>\n",
       "      <th>Volume</th>\n",
       "    </tr>\n",
       "  </thead>\n",
       "  <tbody>\n",
       "    <tr>\n",
       "      <th>count</th>\n",
       "      <td>1511.000000</td>\n",
       "      <td>1511.000000</td>\n",
       "      <td>1511.000000</td>\n",
       "      <td>1511.000000</td>\n",
       "      <td>1.511000e+03</td>\n",
       "    </tr>\n",
       "    <tr>\n",
       "      <th>mean</th>\n",
       "      <td>107.385976</td>\n",
       "      <td>108.437472</td>\n",
       "      <td>106.294533</td>\n",
       "      <td>107.422091</td>\n",
       "      <td>3.019863e+07</td>\n",
       "    </tr>\n",
       "    <tr>\n",
       "      <th>std</th>\n",
       "      <td>56.691333</td>\n",
       "      <td>57.382276</td>\n",
       "      <td>55.977155</td>\n",
       "      <td>56.702299</td>\n",
       "      <td>1.425266e+07</td>\n",
       "    </tr>\n",
       "    <tr>\n",
       "      <th>min</th>\n",
       "      <td>40.340000</td>\n",
       "      <td>40.740000</td>\n",
       "      <td>39.720000</td>\n",
       "      <td>40.290000</td>\n",
       "      <td>1.016120e+05</td>\n",
       "    </tr>\n",
       "    <tr>\n",
       "      <th>25%</th>\n",
       "      <td>57.860000</td>\n",
       "      <td>58.060000</td>\n",
       "      <td>57.420000</td>\n",
       "      <td>57.855000</td>\n",
       "      <td>2.136213e+07</td>\n",
       "    </tr>\n",
       "    <tr>\n",
       "      <th>50%</th>\n",
       "      <td>93.990000</td>\n",
       "      <td>95.100000</td>\n",
       "      <td>92.920000</td>\n",
       "      <td>93.860000</td>\n",
       "      <td>2.662962e+07</td>\n",
       "    </tr>\n",
       "    <tr>\n",
       "      <th>75%</th>\n",
       "      <td>139.440000</td>\n",
       "      <td>140.325000</td>\n",
       "      <td>137.825000</td>\n",
       "      <td>138.965000</td>\n",
       "      <td>3.431962e+07</td>\n",
       "    </tr>\n",
       "    <tr>\n",
       "      <th>max</th>\n",
       "      <td>245.030000</td>\n",
       "      <td>246.130000</td>\n",
       "      <td>242.920000</td>\n",
       "      <td>244.990000</td>\n",
       "      <td>1.352271e+08</td>\n",
       "    </tr>\n",
       "  </tbody>\n",
       "</table>\n",
       "</div>"
      ],
      "text/plain": [
       "              Open         High          Low        Close        Volume\n",
       "count  1511.000000  1511.000000  1511.000000  1511.000000  1.511000e+03\n",
       "mean    107.385976   108.437472   106.294533   107.422091  3.019863e+07\n",
       "std      56.691333    57.382276    55.977155    56.702299  1.425266e+07\n",
       "min      40.340000    40.740000    39.720000    40.290000  1.016120e+05\n",
       "25%      57.860000    58.060000    57.420000    57.855000  2.136213e+07\n",
       "50%      93.990000    95.100000    92.920000    93.860000  2.662962e+07\n",
       "75%     139.440000   140.325000   137.825000   138.965000  3.431962e+07\n",
       "max     245.030000   246.130000   242.920000   244.990000  1.352271e+08"
      ]
     },
     "execution_count": 9,
     "metadata": {},
     "output_type": "execute_result"
    }
   ],
   "source": [
    "df.describe()"
   ]
  },
  {
   "cell_type": "code",
   "execution_count": 10,
   "id": "091ead69-1267-4b03-963c-94dbf364bd9f",
   "metadata": {},
   "outputs": [
    {
     "data": {
      "text/plain": [
       "0"
      ]
     },
     "execution_count": 10,
     "metadata": {},
     "output_type": "execute_result"
    }
   ],
   "source": [
    "df.duplicated().sum()"
   ]
  },
  {
   "cell_type": "code",
   "execution_count": 31,
   "id": "b867c6a7-159b-49ce-a228-e9274a943dcf",
   "metadata": {},
   "outputs": [],
   "source": [
    "X=df[['Open','High','Low','Volume']]"
   ]
  },
  {
   "cell_type": "code",
   "execution_count": 32,
   "id": "2c789f87-92cc-4bdc-affc-28c778ccf94e",
   "metadata": {},
   "outputs": [],
   "source": [
    "y=df[['Close']]"
   ]
  },
  {
   "cell_type": "code",
   "execution_count": 33,
   "id": "4b864ae8-e86b-4aad-b6cb-c294ee9eea45",
   "metadata": {},
   "outputs": [
    {
     "data": {
      "text/plain": [
       "((1511, 4), (1511, 1))"
      ]
     },
     "execution_count": 33,
     "metadata": {},
     "output_type": "execute_result"
    }
   ],
   "source": [
    "X.shape,y.shape"
   ]
  },
  {
   "cell_type": "code",
   "execution_count": 34,
   "id": "020d3c68-e43d-41d9-8778-fe4849dcbbef",
   "metadata": {},
   "outputs": [],
   "source": [
    "from sklearn.preprocessing import StandardScaler"
   ]
  },
  {
   "cell_type": "code",
   "execution_count": 35,
   "id": "d44f23d9-7d1f-4546-9f33-70f9694b728f",
   "metadata": {},
   "outputs": [],
   "source": [
    "X_scaler=StandardScaler()\n",
    "y_scaler=StandardScaler()"
   ]
  },
  {
   "cell_type": "code",
   "execution_count": 36,
   "id": "dc03c950-3be9-41f0-9112-5852c8cc057d",
   "metadata": {},
   "outputs": [],
   "source": [
    "scaled_X=X_scaler.fit_transform(X)\n",
    "scaled_y=y_scaler.fit_transform(y)"
   ]
  },
  {
   "cell_type": "code",
   "execution_count": 39,
   "id": "3ac83157-2a65-4345-8fb0-9916c462e443",
   "metadata": {},
   "outputs": [],
   "source": [
    "def create_seq(X,y,time_steps):\n",
    "    Xs,ys=[],[]\n",
    "    for i in range(len(X)-time_steps):\n",
    "        Xs.append(X[i:(i+time_steps)])\n",
    "        ys.append(y[i+time_steps])\n",
    "    return np.asarray(Xs),np.asarray(ys)"
   ]
  },
  {
   "cell_type": "code",
   "execution_count": 46,
   "id": "0c3a3e4a-52c0-4017-8a34-f307974b65fc",
   "metadata": {},
   "outputs": [],
   "source": [
    "X_seq,y_seq=create_seq(scaled_X,scaled_y,7)"
   ]
  },
  {
   "cell_type": "code",
   "execution_count": 47,
   "id": "1a52cf7d-b532-43d8-8298-27bd300d701a",
   "metadata": {},
   "outputs": [
    {
     "name": "stdout",
     "output_type": "stream",
     "text": [
      "(1504, 7, 4)\n"
     ]
    }
   ],
   "source": [
    "print(X_seq.shape) #elements, time steps , features"
   ]
  },
  {
   "cell_type": "code",
   "execution_count": 48,
   "id": "6f0b225f-5ec2-420a-8808-383331119059",
   "metadata": {},
   "outputs": [
    {
     "name": "stdout",
     "output_type": "stream",
     "text": [
      "(1504, 1)\n"
     ]
    }
   ],
   "source": [
    "print(y_seq.shape)"
   ]
  },
  {
   "cell_type": "code",
   "execution_count": 49,
   "id": "edbd8568-1e85-424b-8a68-00a7010104c3",
   "metadata": {},
   "outputs": [
    {
     "data": {
      "text/plain": [
       "1203"
      ]
     },
     "execution_count": 49,
     "metadata": {},
     "output_type": "execute_result"
    }
   ],
   "source": [
    "split=int(len(X_seq)*0.8)\n",
    "split"
   ]
  },
  {
   "cell_type": "code",
   "execution_count": 50,
   "id": "40032f24-c8b2-4311-b830-177a538f6132",
   "metadata": {},
   "outputs": [],
   "source": [
    "X_train=X_seq[:split]\n",
    "y_train=y_seq[:split]"
   ]
  },
  {
   "cell_type": "code",
   "execution_count": 51,
   "id": "4b6d4f4e-b657-4fd0-ba6d-3f69b84041b1",
   "metadata": {},
   "outputs": [],
   "source": [
    "X_test=X_seq[split:]\n",
    "y_test=y_seq[split:]"
   ]
  },
  {
   "cell_type": "code",
   "execution_count": 52,
   "id": "8da43fd5-7150-4c78-9d70-8d7e751d6b9d",
   "metadata": {},
   "outputs": [
    {
     "data": {
      "text/plain": [
       "((1203, 7, 4), (1203, 1))"
      ]
     },
     "execution_count": 52,
     "metadata": {},
     "output_type": "execute_result"
    }
   ],
   "source": [
    "X_train.shape,y_train.shape"
   ]
  },
  {
   "cell_type": "code",
   "execution_count": 53,
   "id": "90015e68-bafa-4445-95e3-405d48c7cd83",
   "metadata": {},
   "outputs": [
    {
     "data": {
      "text/plain": [
       "((301, 7, 4), (301, 1))"
      ]
     },
     "execution_count": 53,
     "metadata": {},
     "output_type": "execute_result"
    }
   ],
   "source": [
    "X_test.shape,y_test.shape"
   ]
  },
  {
   "cell_type": "code",
   "execution_count": 54,
   "id": "6bbd3999-4ed0-4434-b88d-b388ad5ec6a1",
   "metadata": {},
   "outputs": [],
   "source": [
    "from torch.utils.data import Dataset"
   ]
  },
  {
   "cell_type": "code",
   "execution_count": 55,
   "id": "b5ba8b27-6184-46db-85d6-01af0a40f19b",
   "metadata": {},
   "outputs": [],
   "source": [
    "class TSFData(Dataset):\n",
    "    def __init__(self,X,y):\n",
    "        self.X=X\n",
    "        self.y=y\n",
    "\n",
    "    def __len__(self):\n",
    "        return len(self.X)\n",
    "\n",
    "    def __getitem__(self,i):\n",
    "        return self.X[i],self.y[i]"
   ]
  },
  {
   "cell_type": "code",
   "execution_count": 56,
   "id": "0b5299d8-722b-4826-857f-55feb71b8caf",
   "metadata": {},
   "outputs": [],
   "source": [
    "X_train_tensor=torch.tensor(X_train,dtype=torch.float32).to(device)\n",
    "X_test_tensor=torch.tensor(X_test,dtype=torch.float32).to(device)\n",
    "y_train_tensor=torch.tensor(y_train,dtype=torch.float32).to(device)\n",
    "y_test_tensor=torch.tensor(y_test,dtype=torch.float32).to(device)"
   ]
  },
  {
   "cell_type": "code",
   "execution_count": 57,
   "id": "c6dfc958-5f0f-468f-9b17-ce9c6afb54e0",
   "metadata": {},
   "outputs": [],
   "source": [
    "train_data=TSFData(X_train_tensor,y_train_tensor)\n",
    "test_data=TSFData(X_test_tensor,y_test_tensor)"
   ]
  },
  {
   "cell_type": "code",
   "execution_count": 58,
   "id": "6055358e-f472-4416-b27b-b6771c090893",
   "metadata": {},
   "outputs": [
    {
     "data": {
      "text/plain": [
       "1203"
      ]
     },
     "execution_count": 58,
     "metadata": {},
     "output_type": "execute_result"
    }
   ],
   "source": [
    "len(train_data)"
   ]
  },
  {
   "cell_type": "code",
   "execution_count": 59,
   "id": "50b463f1-3c8c-455b-a6d7-dee8ee27f51b",
   "metadata": {},
   "outputs": [
    {
     "data": {
      "text/plain": [
       "301"
      ]
     },
     "execution_count": 59,
     "metadata": {},
     "output_type": "execute_result"
    }
   ],
   "source": [
    "len(test_data)"
   ]
  },
  {
   "cell_type": "code",
   "execution_count": 60,
   "id": "a7cbad31-a97e-42c7-a095-ef9c46a5e46f",
   "metadata": {},
   "outputs": [],
   "source": [
    "from torch.utils.data import DataLoader"
   ]
  },
  {
   "cell_type": "code",
   "execution_count": 61,
   "id": "37028fc0-05be-4f60-964f-0c983540d781",
   "metadata": {},
   "outputs": [],
   "source": [
    "train_dataloader=DataLoader(train_data,batch_size=16,shuffle=False)"
   ]
  },
  {
   "cell_type": "code",
   "execution_count": 62,
   "id": "24b03656-4ded-4051-bc8b-2b064890d453",
   "metadata": {},
   "outputs": [],
   "source": [
    "test_dataloader=DataLoader(test_data,batch_size=16,shuffle=False)"
   ]
  },
  {
   "cell_type": "code",
   "execution_count": 63,
   "id": "bfa6d80e-b818-43fb-b0d7-427c1dd5a857",
   "metadata": {},
   "outputs": [],
   "source": [
    "# DEF LSTM MODEL CLASS"
   ]
  },
  {
   "cell_type": "code",
   "execution_count": 64,
   "id": "fb19d482-f2a2-400b-9e19-b312a9bf2c28",
   "metadata": {},
   "outputs": [
    {
     "data": {
      "text/plain": [
       "76"
      ]
     },
     "execution_count": 64,
     "metadata": {},
     "output_type": "execute_result"
    }
   ],
   "source": [
    "len(train_dataloader)"
   ]
  },
  {
   "cell_type": "code",
   "execution_count": 65,
   "id": "a92af427-ab4e-4a0b-a5c1-e397e0459351",
   "metadata": {},
   "outputs": [
    {
     "data": {
      "text/plain": [
       "19"
      ]
     },
     "execution_count": 65,
     "metadata": {},
     "output_type": "execute_result"
    }
   ],
   "source": [
    "len(test_dataloader)"
   ]
  },
  {
   "cell_type": "code",
   "execution_count": 66,
   "id": "ee03460a-e37a-4069-9c19-308e9622d893",
   "metadata": {},
   "outputs": [
    {
     "name": "stdout",
     "output_type": "stream",
     "text": [
      "tensor([[-1.1785, -1.1798, -1.1792,  0.4679],\n",
      "        [-1.1774, -1.1802, -1.1826,  0.5116],\n",
      "        [-1.1830, -1.1620, -1.1815,  0.6334],\n",
      "        [-1.1606, -1.1598, -1.1613, -0.0975],\n",
      "        [-1.1629, -1.1636, -1.1661, -0.3822],\n",
      "        [-1.1670, -1.1648, -1.1624, -0.3141],\n",
      "        [-1.1603, -1.1591, -1.1595, -0.1528]], device='cuda:0')\n",
      "tensor([-1.1584], device='cuda:0')\n",
      "torch.Size([7, 4])\n",
      "torch.Size([1])\n"
     ]
    }
   ],
   "source": [
    "for idx,(X,y) in enumerate(train_dataloader):\n",
    "    print(X[idx])\n",
    "    print(y[idx])\n",
    "    print(X[idx].shape)\n",
    "    print(y[idx].shape)\n",
    "    break"
   ]
  },
  {
   "cell_type": "code",
   "execution_count": 67,
   "id": "12e2bf3b-7df0-48b3-963b-412b6746e01b",
   "metadata": {},
   "outputs": [],
   "source": [
    "import torch.nn as nn\n",
    "from torch.optim import Adam as Adam"
   ]
  },
  {
   "cell_type": "code",
   "execution_count": 106,
   "id": "3f917959-c3b9-4c78-bb52-24f88e269a48",
   "metadata": {},
   "outputs": [],
   "source": [
    "class LSTM(nn.Module):\n",
    "    def __init__(self,input_size,hidden_size,num_layers):\n",
    "        super().__init__()\n",
    "        self.input_size=input_size\n",
    "        self.hidden_size=hidden_size\n",
    "        self.num_layers=num_layers\n",
    "        self.lstm=nn.LSTM(input_size,hidden_size,num_layers,bidirectional=False,batch_first=True)\n",
    "        self.fc=nn.Sequential(\n",
    "            nn.Dropout(0.2),\n",
    "            nn.ReLU(),\n",
    "            nn.Linear(hidden_size,1)\n",
    "        )\n",
    "\n",
    "    def forward(self,x):\n",
    "        batch_size = x.size(0)\n",
    "        h0=torch.zeros(self.num_layers,batch_size,self.hidden_size).to(device)\n",
    "        c0=torch.zeros(self.num_layers,batch_size,self.hidden_size).to(device)\n",
    "        out,_=self.lstm(x,(h0,c0))\n",
    "        out=self.fc(out[:,-1,:])\n",
    "        return out\n",
    "    "
   ]
  },
  {
   "cell_type": "code",
   "execution_count": 116,
   "id": "454a223c-c318-4107-a257-401fe78f657e",
   "metadata": {},
   "outputs": [],
   "source": [
    "model_0=LSTM(4,64,1).to(device)"
   ]
  },
  {
   "cell_type": "code",
   "execution_count": 117,
   "id": "e6bdd770-4214-4316-9a50-0599b247e8cb",
   "metadata": {},
   "outputs": [],
   "source": [
    "loss_fn=nn.MSELoss()\n",
    "optim=Adam(params=model_0.parameters(),lr=0.01)"
   ]
  },
  {
   "cell_type": "code",
   "execution_count": 118,
   "id": "b40b7feb-06d9-462b-b2d5-90109d5a2465",
   "metadata": {},
   "outputs": [],
   "source": [
    "#def traininng loop function\n",
    "def train_loop(epochs,model,dataloader,loss_fn,optimizer,device):\n",
    "    model.train()\n",
    "    for epoch in range(epochs):\n",
    "        train_loss=0\n",
    "        for i,(X,y) in enumerate(dataloader):\n",
    "            X=X.to(device)\n",
    "            y=y.to(device)\n",
    "            y_pred=model(X)\n",
    "            loss=loss_fn(y_pred,y)\n",
    "            train_loss+=loss.item()\n",
    "            optimizer.zero_grad()\n",
    "            loss.backward()\n",
    "            optimizer.step()\n",
    "\n",
    "        print(f\"Epoch {epoch+1}/{epochs}, Loss: {train_loss/len(dataloader):.4f}\")\n",
    "\n",
    "    "
   ]
  },
  {
   "cell_type": "code",
   "execution_count": 119,
   "id": "4d5f512f-e401-4dcb-b08f-85254ec58cc6",
   "metadata": {},
   "outputs": [
    {
     "name": "stdout",
     "output_type": "stream",
     "text": [
      "Epoch 1/50, Loss: 0.0774\n",
      "Epoch 2/50, Loss: 0.1770\n",
      "Epoch 3/50, Loss: 0.1467\n",
      "Epoch 4/50, Loss: 0.0878\n",
      "Epoch 5/50, Loss: 0.1076\n",
      "Epoch 6/50, Loss: 0.0375\n",
      "Epoch 7/50, Loss: 0.0202\n",
      "Epoch 8/50, Loss: 0.0201\n",
      "Epoch 9/50, Loss: 0.0194\n",
      "Epoch 10/50, Loss: 0.0234\n",
      "Epoch 11/50, Loss: 0.0149\n",
      "Epoch 12/50, Loss: 0.0208\n",
      "Epoch 13/50, Loss: 0.0413\n",
      "Epoch 14/50, Loss: 0.0172\n",
      "Epoch 15/50, Loss: 0.0158\n",
      "Epoch 16/50, Loss: 0.0227\n",
      "Epoch 17/50, Loss: 0.0269\n",
      "Epoch 18/50, Loss: 0.0112\n",
      "Epoch 19/50, Loss: 0.0188\n",
      "Epoch 20/50, Loss: 0.0170\n",
      "Epoch 21/50, Loss: 0.0098\n",
      "Epoch 22/50, Loss: 0.0137\n",
      "Epoch 23/50, Loss: 0.0185\n",
      "Epoch 24/50, Loss: 0.0086\n",
      "Epoch 25/50, Loss: 0.0082\n",
      "Epoch 26/50, Loss: 0.0118\n",
      "Epoch 27/50, Loss: 0.0166\n",
      "Epoch 28/50, Loss: 0.0156\n",
      "Epoch 29/50, Loss: 0.0102\n",
      "Epoch 30/50, Loss: 0.0077\n",
      "Epoch 31/50, Loss: 0.0102\n",
      "Epoch 32/50, Loss: 0.0125\n",
      "Epoch 33/50, Loss: 0.0082\n",
      "Epoch 34/50, Loss: 0.0109\n",
      "Epoch 35/50, Loss: 0.0191\n",
      "Epoch 36/50, Loss: 0.0079\n",
      "Epoch 37/50, Loss: 0.0147\n",
      "Epoch 38/50, Loss: 0.0306\n",
      "Epoch 39/50, Loss: 0.0151\n",
      "Epoch 40/50, Loss: 0.0132\n",
      "Epoch 41/50, Loss: 0.0257\n",
      "Epoch 42/50, Loss: 0.0154\n",
      "Epoch 43/50, Loss: 0.0067\n",
      "Epoch 44/50, Loss: 0.0113\n",
      "Epoch 45/50, Loss: 0.0115\n",
      "Epoch 46/50, Loss: 0.0100\n",
      "Epoch 47/50, Loss: 0.0101\n",
      "Epoch 48/50, Loss: 0.0069\n",
      "Epoch 49/50, Loss: 0.0071\n",
      "Epoch 50/50, Loss: 0.0120\n"
     ]
    }
   ],
   "source": [
    "train_loop(50,model_0,train_dataloader,loss_fn,optim,device)"
   ]
  },
  {
   "cell_type": "code",
   "execution_count": 92,
   "id": "e0df0191-b3a9-4004-9e2e-535b08491cf0",
   "metadata": {},
   "outputs": [],
   "source": [
    "import matplotlib.pyplot as plt\n",
    "import numpy as np\n",
    "\n",
    "def predict_and_plot(model, dataloader, x_scaler, y_scaler, device):\n",
    "    model.eval()\n",
    "    predictions = []\n",
    "    targets = []\n",
    "\n",
    "    with torch.no_grad():\n",
    "        for X, y in dataloader:\n",
    "            X, y = X.to(device), y.to(device)\n",
    "\n",
    "            # Perform forward pass\n",
    "            y_pred = model(X)\n",
    "\n",
    "            # Collect predictions and actual targets for inverse scaling\n",
    "            predictions.append(y_pred.cpu().numpy())\n",
    "            targets.append(y.cpu().numpy())\n",
    "\n",
    "    # Combine all the predictions and targets\n",
    "    predictions = np.concatenate(predictions, axis=0)\n",
    "    targets = np.concatenate(targets, axis=0)\n",
    "\n",
    "    # Perform inverse scaling on the predictions and targets\n",
    "    predictions = y_scaler.inverse_transform(predictions)\n",
    "    targets = y_scaler.inverse_transform(targets)\n",
    "\n",
    "    # Plot predictions vs actual values\n",
    "    plt.figure(figsize=(10, 6))\n",
    "    plt.plot(targets, label='Actual', color='blue', alpha=0.7)\n",
    "    plt.plot(predictions, label='Predicted', color='red', linestyle='dashed', alpha=0.7)\n",
    "    plt.title('Predictions vs Actuals (Test Data)')\n",
    "    plt.xlabel('Samples')\n",
    "    plt.ylabel('Close Price')\n",
    "    plt.legend()\n",
    "    plt.show()\n",
    "\n",
    "    return predictions, targets\n"
   ]
  },
  {
   "cell_type": "code",
   "execution_count": 129,
   "id": "2d564687-bbca-4223-89fc-8ee0c5fdc01f",
   "metadata": {},
   "outputs": [
    {
     "data": {
      "image/png": "[encoded data removed]",
      "text/plain": [
       "<Figure size 1000x600 with 1 Axes>"
      ]
     },
     "metadata": {},
     "output_type": "display_data"
    }
   ],
   "source": [
    "preds,targets=predict_and_plot(model_0,test_dataloader,X_scaler,y_scaler,device)"
   ]
  },
  {
   "cell_type": "code",
   "execution_count": 123,
   "id": "640f5d8c-0329-48d1-8901-ad49ee047574",
   "metadata": {},
   "outputs": [
    {
     "name": "stdout",
     "output_type": "stream",
     "text": [
      "Collecting torchmetrics\n",
      "  Downloading torchmetrics-1.7.1-py3-none-any.whl.metadata (21 kB)\n",
      "Collecting torchinfo\n",
      "  Downloading torchinfo-1.8.0-py3-none-any.whl.metadata (21 kB)\n",
      "Requirement already satisfied: numpy>1.20.0 in c:\\users\\shrinil\\anaconda3\\lib\\site-packages (from torchmetrics) (1.26.4)\n",
      "Requirement already satisfied: packaging>17.1 in c:\\users\\shrinil\\anaconda3\\lib\\site-packages (from torchmetrics) (24.2)\n",
      "Requirement already satisfied: torch>=2.0.0 in c:\\users\\shrinil\\anaconda3\\lib\\site-packages (from torchmetrics) (2.7.0+cu128)\n",
      "Collecting lightning-utilities>=0.8.0 (from torchmetrics)\n",
      "  Downloading lightning_utilities-0.14.3-py3-none-any.whl.metadata (5.6 kB)\n",
      "Requirement already satisfied: setuptools in c:\\users\\shrinil\\anaconda3\\lib\\site-packages (from lightning-utilities>=0.8.0->torchmetrics) (68.2.2)\n",
      "Requirement already satisfied: typing_extensions in c:\\users\\shrinil\\anaconda3\\lib\\site-packages (from lightning-utilities>=0.8.0->torchmetrics) (4.12.2)\n",
      "Requirement already satisfied: filelock in c:\\users\\shrinil\\anaconda3\\lib\\site-packages (from torch>=2.0.0->torchmetrics) (3.13.1)\n",
      "Requirement already satisfied: sympy>=1.13.3 in c:\\users\\shrinil\\anaconda3\\lib\\site-packages (from torch>=2.0.0->torchmetrics) (1.13.3)\n",
      "Requirement already satisfied: networkx in c:\\users\\shrinil\\anaconda3\\lib\\site-packages (from torch>=2.0.0->torchmetrics) (3.1)\n",
      "Requirement already satisfied: jinja2 in c:\\users\\shrinil\\anaconda3\\lib\\site-packages (from torch>=2.0.0->torchmetrics) (3.1.5)\n",
      "Requirement already satisfied: fsspec in c:\\users\\shrinil\\anaconda3\\lib\\site-packages (from torch>=2.0.0->torchmetrics) (2023.10.0)\n",
      "Requirement already satisfied: mpmath<1.4,>=1.1.0 in c:\\users\\shrinil\\anaconda3\\lib\\site-packages (from sympy>=1.13.3->torch>=2.0.0->torchmetrics) (1.3.0)\n",
      "Requirement already satisfied: MarkupSafe>=2.0 in c:\\users\\shrinil\\anaconda3\\lib\\site-packages (from jinja2->torch>=2.0.0->torchmetrics) (2.1.3)\n",
      "Downloading torchmetrics-1.7.1-py3-none-any.whl (961 kB)\n",
      "   ---------------------------------------- 0.0/961.5 kB ? eta -:--:--\n",
      "   - ------------------------------------- 41.0/961.5 kB 991.0 kB/s eta 0:00:01\n",
      "   ----- ---------------------------------- 143.4/961.5 kB 1.7 MB/s eta 0:00:01\n",
      "   -------- ------------------------------- 194.6/961.5 kB 2.0 MB/s eta 0:00:01\n",
      "   ----------- ---------------------------- 276.5/961.5 kB 1.5 MB/s eta 0:00:01\n",
      "   --------------- ------------------------ 368.6/961.5 kB 1.6 MB/s eta 0:00:01\n",
      "   ------------------ --------------------- 440.3/961.5 kB 1.7 MB/s eta 0:00:01\n",
      "   --------------------- ------------------ 522.2/961.5 kB 1.7 MB/s eta 0:00:01\n",
      "   ------------------------ --------------- 583.7/961.5 kB 1.6 MB/s eta 0:00:01\n",
      "   -------------------------- ------------- 645.1/961.5 kB 1.6 MB/s eta 0:00:01\n",
      "   ---------------------------- ----------- 696.3/961.5 kB 1.5 MB/s eta 0:00:01\n",
      "   ---------------------------------- ----- 829.4/961.5 kB 1.6 MB/s eta 0:00:01\n",
      "   ------------------------------------- -- 901.1/961.5 kB 1.6 MB/s eta 0:00:01\n",
      "   ---------------------------------------- 961.5/961.5 kB 1.7 MB/s eta 0:00:00\n",
      "Downloading torchinfo-1.8.0-py3-none-any.whl (23 kB)\n",
      "Downloading lightning_utilities-0.14.3-py3-none-any.whl (28 kB)\n",
      "Installing collected packages: torchinfo, lightning-utilities, torchmetrics\n",
      "Successfully installed lightning-utilities-0.14.3 torchinfo-1.8.0 torchmetrics-1.7.1\n"
     ]
    }
   ],
   "source": [
    "!pip install torchmetrics torchinfo"
   ]
  },
  {
   "cell_type": "code",
   "execution_count": 124,
   "id": "1438fc12-9a0f-4a3c-b358-1df9eaadc913",
   "metadata": {},
   "outputs": [],
   "source": [
    "from torchinfo import summary"
   ]
  },
  {
   "cell_type": "code",
   "execution_count": 130,
   "id": "7c15c922-300b-4030-b50d-a54d63e94a97",
   "metadata": {},
   "outputs": [
    {
     "data": {
      "text/plain": [
       "==========================================================================================\n",
       "Layer (type:depth-idx)                   Output Shape              Param #\n",
       "==========================================================================================\n",
       "LSTM                                     [16, 1]                   --\n",
       "├─LSTM: 1-1                              [16, 7, 64]               17,920\n",
       "├─Sequential: 1-2                        [16, 1]                   --\n",
       "│    └─Dropout: 2-1                      [16, 64]                  --\n",
       "│    └─ReLU: 2-2                         [16, 64]                  --\n",
       "│    └─Linear: 2-3                       [16, 1]                   65\n",
       "==========================================================================================\n",
       "Total params: 17,985\n",
       "Trainable params: 17,985\n",
       "Non-trainable params: 0\n",
       "Total mult-adds (Units.MEGABYTES): 2.01\n",
       "==========================================================================================\n",
       "Input size (MB): 0.00\n",
       "Forward/backward pass size (MB): 0.06\n",
       "Params size (MB): 0.07\n",
       "Estimated Total Size (MB): 0.13\n",
       "=========================================================================================="
      ]
     },
     "execution_count": 130,
     "metadata": {},
     "output_type": "execute_result"
    }
   ],
   "source": [
    "summary(model_0,input_size=(16,7,4))"
   ]
  },
  {
   "cell_type": "code",
   "execution_count": 138,
   "id": "436a543d-031e-40b9-bbf3-0322547deb85",
   "metadata": {},
   "outputs": [],
   "source": [
    "from sklearn.metrics import mean_absolute_error,mean_squared_error,r2_score"
   ]
  },
  {
   "cell_type": "code",
   "execution_count": 147,
   "id": "2004d3bf-1b36-4278-9273-3644722d1ac4",
   "metadata": {},
   "outputs": [
    {
     "name": "stdout",
     "output_type": "stream",
     "text": [
      "4.699007\n"
     ]
    }
   ],
   "source": [
    "print(mean_absolute_error(preds,targets))"
   ]
  },
  {
   "cell_type": "code",
   "execution_count": 148,
   "id": "8338cb36-7f54-472f-a3ea-7566dbc1a859",
   "metadata": {},
   "outputs": [
    {
     "name": "stdout",
     "output_type": "stream",
     "text": [
      "35.541893\n"
     ]
    }
   ],
   "source": [
    "print(mean_squared_error(preds,targets))"
   ]
  },
  {
   "cell_type": "code",
   "execution_count": 149,
   "id": "7ac408f2-f90c-47e0-ae40-d4ead9ed7ce7",
   "metadata": {},
   "outputs": [
    {
     "name": "stdout",
     "output_type": "stream",
     "text": [
      "0.9404014348983765\n"
     ]
    }
   ],
   "source": [
    "print(r2_score(preds,targets))"
   ]
  },
  {
   "cell_type": "code",
   "execution_count": 150,
   "id": "2c33e6ed-bbe3-4e0d-baf0-9878445ebc79",
   "metadata": {},
   "outputs": [
    {
     "data": {
      "image/png": "[encoded data removed]",
      "text/plain": [
       "<Figure size 800x600 with 1 Axes>"
      ]
     },
     "metadata": {},
     "output_type": "display_data"
    }
   ],
   "source": [
    "import matplotlib.pyplot as plt\n",
    "\n",
    "def plot_preds_vs_targets(preds, targets):\n",
    "    plt.figure(figsize=(8,6))\n",
    "    plt.scatter(targets, preds, color=\"blue\", alpha=0.6)\n",
    "    plt.plot([targets.min(), targets.max()], [targets.min(), targets.max()], 'r--')  # Perfect prediction line\n",
    "    plt.xlabel('Actual Targets')\n",
    "    plt.ylabel('Predictions')\n",
    "    plt.title('Predictions vs Actual Targets')\n",
    "    plt.grid(True)\n",
    "    plt.show()\n",
    "\n",
    "plot_preds_vs_targets(preds, targets)\n"
   ]
  },
  {
   "cell_type": "code",
   "execution_count": null,
   "id": "56f8376d-b44c-43ce-bfce-3069f8d3a8c5",
   "metadata": {},
   "outputs": [],
   "source": []
  }
 ],
 "metadata": {
  "kernelspec": {
   "display_name": "Python 3 (ipykernel)",
   "language": "python",
   "name": "python3"
  },
  "language_info": {
   "codemirror_mode": {
    "name": "ipython",
    "version": 3
   },
   "file_extension": ".py",
   "mimetype": "text/x-python",
   "name": "python",
   "nbconvert_exporter": "python",
   "pygments_lexer": "ipython3",
   "version": "3.11.7"
  }
 },
 "nbformat": 4,
 "nbformat_minor": 5
}
